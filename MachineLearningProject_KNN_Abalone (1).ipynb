{
 "cells": [
  {
   "cell_type": "markdown",
   "id": "61980da2",
   "metadata": {},
   "source": [
    " <h1><center>Predicting the Age of Abalone using K-Nearest Neighbors</center></h1>\n",
    "<h2><center>A machine learning project</center></h2>\n",
    "<h3><center>by Jacqueline Tiefert</center></h3>\n",
    "\n",
    "\n",
    "### Adding 1.5 to the number of rings on an abalone shell gives its age in years. This project seeks to find the features and the best hyperparameter k (number of folds) which most accurately predict the age of abalone, as measured by minimizing the root mean squared error between the actual number of rings and the predicted number of rings. This dataset is available on Kaggle and the University of California, Irvine Machine Learning Repository. The link to the original data file is [here](https://archive.ics.uci.edu/ml/datasets/abalone). The length, diameter, and height are measured in mm. The weight columns are measured in grams."
   ]
  },
  {
   "cell_type": "code",
   "execution_count": 49,
   "id": "a629a73d",
   "metadata": {},
   "outputs": [
    {
     "data": {
      "text/html": [
       "<div>\n",
       "<style scoped>\n",
       "    .dataframe tbody tr th:only-of-type {\n",
       "        vertical-align: middle;\n",
       "    }\n",
       "\n",
       "    .dataframe tbody tr th {\n",
       "        vertical-align: top;\n",
       "    }\n",
       "\n",
       "    .dataframe thead th {\n",
       "        text-align: right;\n",
       "    }\n",
       "</style>\n",
       "<table border=\"1\" class=\"dataframe\">\n",
       "  <thead>\n",
       "    <tr style=\"text-align: right;\">\n",
       "      <th></th>\n",
       "      <th>Sex</th>\n",
       "      <th>Length</th>\n",
       "      <th>Diameter</th>\n",
       "      <th>Height</th>\n",
       "      <th>Whole weight</th>\n",
       "      <th>Shucked weight</th>\n",
       "      <th>Viscera weight</th>\n",
       "      <th>Shell weight</th>\n",
       "      <th>Rings</th>\n",
       "    </tr>\n",
       "  </thead>\n",
       "  <tbody>\n",
       "    <tr>\n",
       "      <th>0</th>\n",
       "      <td>M</td>\n",
       "      <td>0.455</td>\n",
       "      <td>0.365</td>\n",
       "      <td>0.095</td>\n",
       "      <td>0.5140</td>\n",
       "      <td>0.2245</td>\n",
       "      <td>0.1010</td>\n",
       "      <td>0.150</td>\n",
       "      <td>15</td>\n",
       "    </tr>\n",
       "    <tr>\n",
       "      <th>1</th>\n",
       "      <td>M</td>\n",
       "      <td>0.350</td>\n",
       "      <td>0.265</td>\n",
       "      <td>0.090</td>\n",
       "      <td>0.2255</td>\n",
       "      <td>0.0995</td>\n",
       "      <td>0.0485</td>\n",
       "      <td>0.070</td>\n",
       "      <td>7</td>\n",
       "    </tr>\n",
       "    <tr>\n",
       "      <th>2</th>\n",
       "      <td>F</td>\n",
       "      <td>0.530</td>\n",
       "      <td>0.420</td>\n",
       "      <td>0.135</td>\n",
       "      <td>0.6770</td>\n",
       "      <td>0.2565</td>\n",
       "      <td>0.1415</td>\n",
       "      <td>0.210</td>\n",
       "      <td>9</td>\n",
       "    </tr>\n",
       "    <tr>\n",
       "      <th>3</th>\n",
       "      <td>M</td>\n",
       "      <td>0.440</td>\n",
       "      <td>0.365</td>\n",
       "      <td>0.125</td>\n",
       "      <td>0.5160</td>\n",
       "      <td>0.2155</td>\n",
       "      <td>0.1140</td>\n",
       "      <td>0.155</td>\n",
       "      <td>10</td>\n",
       "    </tr>\n",
       "    <tr>\n",
       "      <th>4</th>\n",
       "      <td>I</td>\n",
       "      <td>0.330</td>\n",
       "      <td>0.255</td>\n",
       "      <td>0.080</td>\n",
       "      <td>0.2050</td>\n",
       "      <td>0.0895</td>\n",
       "      <td>0.0395</td>\n",
       "      <td>0.055</td>\n",
       "      <td>7</td>\n",
       "    </tr>\n",
       "  </tbody>\n",
       "</table>\n",
       "</div>"
      ],
      "text/plain": [
       "  Sex  Length  Diameter  Height  Whole weight  Shucked weight  Viscera weight  \\\n",
       "0   M   0.455     0.365   0.095        0.5140          0.2245          0.1010   \n",
       "1   M   0.350     0.265   0.090        0.2255          0.0995          0.0485   \n",
       "2   F   0.530     0.420   0.135        0.6770          0.2565          0.1415   \n",
       "3   M   0.440     0.365   0.125        0.5160          0.2155          0.1140   \n",
       "4   I   0.330     0.255   0.080        0.2050          0.0895          0.0395   \n",
       "\n",
       "   Shell weight  Rings  \n",
       "0         0.150     15  \n",
       "1         0.070      7  \n",
       "2         0.210      9  \n",
       "3         0.155     10  \n",
       "4         0.055      7  "
      ]
     },
     "execution_count": 49,
     "metadata": {},
     "output_type": "execute_result"
    }
   ],
   "source": [
    "import pandas as pd\n",
    "import numpy as np\n",
    "abalone = pd.read_csv(\"abalone.csv\")\n",
    "abalone.head(5)"
   ]
  },
  {
   "cell_type": "markdown",
   "id": "b7bf90b9",
   "metadata": {},
   "source": [
    "### I explore the dataset to check for any null values. The shape of the dataset shows that it has 4,177 rows each representing a unique abalone."
   ]
  },
  {
   "cell_type": "code",
   "execution_count": 50,
   "id": "fec681e1",
   "metadata": {},
   "outputs": [
    {
     "data": {
      "text/plain": [
       "(4177, 9)"
      ]
     },
     "execution_count": 50,
     "metadata": {},
     "output_type": "execute_result"
    }
   ],
   "source": [
    "abalone.shape\n"
   ]
  },
  {
   "cell_type": "code",
   "execution_count": 51,
   "id": "84b5c247",
   "metadata": {},
   "outputs": [
    {
     "data": {
      "text/plain": [
       "Sex               0\n",
       "Length            0\n",
       "Diameter          0\n",
       "Height            0\n",
       "Whole weight      0\n",
       "Shucked weight    0\n",
       "Viscera weight    0\n",
       "Shell weight      0\n",
       "Rings             0\n",
       "dtype: int64"
      ]
     },
     "execution_count": 51,
     "metadata": {},
     "output_type": "execute_result"
    }
   ],
   "source": [
    "abalone.isnull().sum()"
   ]
  },
  {
   "cell_type": "markdown",
   "id": "6b9790e5",
   "metadata": {},
   "source": [
    "### There are no null values, so I am ready to begin. The code below randomly shuffles the dataset and selects a training set which is 75% of the rows, and the remaning 25% is set aside as the test set. Below that, I have taken a closer look at the 'Rings' column which is used to predict the ages in years. The max number of rings is 29 (or 30.5 years) and the min. number of rings is 1 (or 2.5 years old). The average number of rings is 9.9 (11.4 years old) and most of the rings are spread between 8 and 11 rings (9.5 years to 12.5 years old abalone). "
   ]
  },
  {
   "cell_type": "code",
   "execution_count": 52,
   "id": "fb20a96e",
   "metadata": {},
   "outputs": [
    {
     "data": {
      "text/plain": [
       "count    4177.000000\n",
       "mean        9.933684\n",
       "std         3.224169\n",
       "min         1.000000\n",
       "25%         8.000000\n",
       "50%         9.000000\n",
       "75%        11.000000\n",
       "max        29.000000\n",
       "Name: Rings, dtype: float64"
      ]
     },
     "execution_count": 52,
     "metadata": {},
     "output_type": "execute_result"
    }
   ],
   "source": [
    "# Splitting the dataset into training data and test data. \n",
    "# Training data is 75% of the rows, and the test data is the remaining 25%\n",
    "abalone_new = abalone.copy()\n",
    "abalone_new = abalone_new.loc[np.random.permutation(len(abalone_new))]\n",
    "abalone_new['Rings'].astype(float)\n",
    "abalone_train = abalone_new[0:3132]\n",
    "abalone_test = abalone_new[3132:]\n",
    "abalone_new['Rings'].describe()\n"
   ]
  },
  {
   "cell_type": "markdown",
   "id": "1bd8c862",
   "metadata": {},
   "source": [
    "## Univariate Model"
   ]
  },
  {
   "cell_type": "markdown",
   "id": "e6b77f88",
   "metadata": {},
   "source": [
    "### Here I test each feature individually to see which is best at predicting the age of the abalone."
   ]
  },
  {
   "cell_type": "code",
   "execution_count": 53,
   "id": "d5398c46",
   "metadata": {},
   "outputs": [
    {
     "name": "stdout",
     "output_type": "stream",
     "text": [
      "RMSE of 'Length': 3.1153455651710007\n",
      "RMSE of 'Diameter': 2.8890289092145673\n",
      "RMSE of 'Height': 2.7378823933836163\n",
      "RMSE of 'Whole weight': 2.911807344171207\n",
      "RMSE of 'Shucked weight': 3.078637615793387\n",
      "RMSE of 'Viscera weight': 2.8558208835044763\n",
      "RMSE of 'Shell weight': 2.5934699004233526\n"
     ]
    }
   ],
   "source": [
    "from sklearn.neighbors import KNeighborsRegressor\n",
    "from sklearn.metrics import mean_squared_error\n",
    "\n",
    "def knn_train_test(train_col, target_col, df):\n",
    "    knn = KNeighborsRegressor()\n",
    "    np.random.seed(1)\n",
    "    abalone_new = abalone.copy()    \n",
    "    # Randomize order of rows in data frame.\n",
    "    shuffled_index = np.random.permutation(abalone_new.index)\n",
    "    rand_abalone = abalone_new.reindex(shuffled_index)\n",
    "    \n",
    "    # Select the first 75% of rows and set as training set.\n",
    "    # Select the last 25% and set as test set.\n",
    "    train_abalone = rand_abalone.iloc[0:3132]\n",
    "    test_abalone = rand_abalone.iloc[3132:]\n",
    "    \n",
    "    # Fit a KNN model using default k value.\n",
    "    knn.fit(train_abalone[[train_col]], train_abalone[target_col])\n",
    "    \n",
    "    # Make predictions using model.\n",
    "    predicted_labels = knn.predict(test_abalone[[train_col]])\n",
    "\n",
    "    # Calculate and return RMSE.\n",
    "    mse = mean_squared_error(test_abalone[target_col], predicted_labels)\n",
    "    rmse = np.sqrt(mse)\n",
    "    return rmse\n",
    "\n",
    "\n",
    "\n",
    "print(\"RMSE of 'Length':\", knn_train_test('Length','Rings', abalone))\n",
    "print(\"RMSE of 'Diameter':\", knn_train_test('Diameter','Rings', abalone))\n",
    "print(\"RMSE of 'Height':\", knn_train_test('Height','Rings', abalone))\n",
    "print(\"RMSE of 'Whole weight':\", knn_train_test('Whole weight','Rings', abalone))\n",
    "print(\"RMSE of 'Shucked weight':\", knn_train_test('Shucked weight','Rings', abalone))\n",
    "print(\"RMSE of 'Viscera weight':\", knn_train_test('Viscera weight','Rings', abalone))\n",
    "print(\"RMSE of 'Shell weight':\", knn_train_test('Shell weight','Rings', abalone))\n",
    "\n"
   ]
  },
  {
   "cell_type": "markdown",
   "id": "681a71d0",
   "metadata": {},
   "source": [
    "### The features with the lowest root mean square of error are 'Shell weight', 'Height', 'Viscera weight', and 'Diameter' in that order. The root mean square error for Shell weight, for example, means that the age value is off by 2.59 years on average for the predicted age. Now I will try a multivariate model, using these most useful features for predicting the age of the abalone."
   ]
  },
  {
   "cell_type": "markdown",
   "id": "83922069",
   "metadata": {},
   "source": [
    "## Multivariate Model"
   ]
  },
  {
   "cell_type": "code",
   "execution_count": 54,
   "id": "09964464",
   "metadata": {},
   "outputs": [
    {
     "name": "stdout",
     "output_type": "stream",
     "text": [
      "RMSE of 'Shell weight' and 'Height': 2.6617258853975208\n",
      "RMSE of 'Shell weight' and 'Viscera weight': 2.658099475747006\n",
      "RMSE of 'Shell weight' and 'Diameter': 2.4966733848124028\n",
      "RMSE of 'Height' and 'Viscera weight': 2.764297327155431\n",
      "RMSE of 'Height' and 'Diameter': 2.7920598285359866\n",
      "RMSE of 'Viscera weight' and 'Diameter': 2.888850038588806\n"
     ]
    }
   ],
   "source": [
    "# two feature model\n",
    "def knn_train_test(train_col_1, train_col_2, target_col, df):\n",
    "    knn = KNeighborsRegressor()\n",
    "    np.random.seed(1)\n",
    "    abalone_new = abalone.copy()    \n",
    "    # Randomize order of rows in data frame.\n",
    "    shuffled_index = np.random.permutation(abalone_new.index)\n",
    "    rand_abalone = abalone_new.reindex(shuffled_index)\n",
    "    \n",
    "    # Select the first 75% of the rows and set as training set.\n",
    "    # Select the last 25% and set as test set.\n",
    "    train_abalone = rand_abalone.iloc[0:3132]\n",
    "    test_abalone = rand_abalone.iloc[3132:]\n",
    "    \n",
    "    # Fit a KNN model using default k value.\n",
    "    knn.fit(train_abalone[[train_col_1, train_col_2]], train_abalone[target_col])\n",
    "    \n",
    "    # Make predictions using model.\n",
    "    predicted_labels = knn.predict(test_abalone[[train_col_1, train_col_2]])\n",
    "\n",
    "    # Calculate and return RMSE.\n",
    "    mse = mean_squared_error(test_abalone[target_col], predicted_labels)\n",
    "    rmse = np.sqrt(mse)\n",
    "    return rmse\n",
    "\n",
    "## Try all combinations of just two features and look for lowest root mean squared error\n",
    "print(\"RMSE of 'Shell weight' and 'Height':\", knn_train_test('Shell weight','Height','Rings', abalone))\n",
    "print(\"RMSE of 'Shell weight' and 'Viscera weight':\", knn_train_test('Shell weight', 'Viscera weight','Rings', abalone))\n",
    "print(\"RMSE of 'Shell weight' and 'Diameter':\", knn_train_test('Shell weight','Diameter','Rings', abalone))\n",
    "\n",
    "print(\"RMSE of 'Height' and 'Viscera weight':\", knn_train_test('Height','Viscera weight','Rings', abalone))\n",
    "print(\"RMSE of 'Height' and 'Diameter':\", knn_train_test('Height','Diameter','Rings', abalone))\n",
    "\n",
    "print(\"RMSE of 'Viscera weight' and 'Diameter':\", knn_train_test('Viscera weight','Diameter','Rings', abalone))\n",
    "\n"
   ]
  },
  {
   "cell_type": "markdown",
   "id": "f679fb2b",
   "metadata": {},
   "source": [
    "### The best combination of two features for predicting age of abalone is shell weight and diameter. Now I will test these two in combination with a third to find the best three features. Note that it is better than just using shell weight to predict age (lower RMSE)"
   ]
  },
  {
   "cell_type": "code",
   "execution_count": 55,
   "id": "575966d0",
   "metadata": {},
   "outputs": [
    {
     "name": "stdout",
     "output_type": "stream",
     "text": [
      "RMSE of 'Shell weight', 'Diameter', and 'Height': 2.5050456260349323\n",
      "RMSE of 'Shell weight', 'Diameter', and 'Viscera weight': 2.482150634094339\n"
     ]
    }
   ],
   "source": [
    "# three feature model\n",
    "def knn_train_test(train_col_1, train_col_2, train_col_3, target_col, df):\n",
    "    knn = KNeighborsRegressor()\n",
    "    np.random.seed(1)\n",
    "    abalone_new = abalone.copy()    \n",
    "    # Randomize order of rows in data frame.\n",
    "    shuffled_index = np.random.permutation(abalone_new.index)\n",
    "    rand_abalone = abalone_new.reindex(shuffled_index)\n",
    "    \n",
    "    # Select the first 75% of rows and set as training set.\n",
    "    # Select the last 25% and set as test set.\n",
    "    train_abalone = rand_abalone.iloc[0:3132]\n",
    "    test_abalone = rand_abalone.iloc[3132:]\n",
    "    \n",
    "    # Fit a KNN model using default k value.\n",
    "    knn.fit(train_abalone[[train_col_1, train_col_2, train_col_3]], train_abalone[target_col])\n",
    "    \n",
    "    # Make predictions using model.\n",
    "    predicted_labels = knn.predict(test_abalone[[train_col_1, train_col_2, train_col_3]])\n",
    "\n",
    "    # Calculate and return RMSE.\n",
    "    mse = mean_squared_error(test_abalone[target_col], predicted_labels)\n",
    "    rmse = np.sqrt(mse)\n",
    "    return rmse\n",
    "\n",
    "print(\"RMSE of 'Shell weight', 'Diameter', and 'Height':\", knn_train_test('Shell weight','Diameter','Height','Rings', abalone))\n",
    "print(\"RMSE of 'Shell weight', 'Diameter', and 'Viscera weight':\", knn_train_test('Shell weight','Diameter', 'Viscera weight','Rings', abalone))\n",
    "\n"
   ]
  },
  {
   "cell_type": "markdown",
   "id": "05c7bad6",
   "metadata": {},
   "source": [
    "### Even better than using shell weight and diameter, is combining shell weight, diamater, and viscera weight to predict the age. Now I will use all four of the best features in combination and see whether the RMSE can be minimized further."
   ]
  },
  {
   "cell_type": "code",
   "execution_count": 56,
   "id": "7cde0fc0",
   "metadata": {},
   "outputs": [
    {
     "name": "stdout",
     "output_type": "stream",
     "text": [
      "RMSE of 'Shell weight', 'Diameter', 'Viscera weight', and 'Height': 2.493912204975228\n"
     ]
    }
   ],
   "source": [
    "# four feature model\n",
    "def knn_train_test(train_col_1, train_col_2, train_col_3, train_col_4, target_col, df):\n",
    "    knn = KNeighborsRegressor()\n",
    "    np.random.seed(1)\n",
    "    abalone_new = abalone.copy()    \n",
    "    # Randomize order of rows in data frame.\n",
    "    shuffled_index = np.random.permutation(abalone_new.index)\n",
    "    rand_abalone = abalone_new.reindex(shuffled_index)\n",
    "    \n",
    "    # Select the first 75% of rows and set as training set.\n",
    "    # Select the remaining 25% and set as test set.\n",
    "    train_abalone = rand_abalone.iloc[0:3132]\n",
    "    test_abalone = rand_abalone.iloc[3132:]\n",
    "    \n",
    "    # Fit a KNN model using default k value.\n",
    "    knn.fit(train_abalone[[train_col_1, train_col_2, train_col_3, train_col_4]], train_abalone[target_col])\n",
    "    \n",
    "    # Make predictions using model.\n",
    "    predicted_labels = knn.predict(test_abalone[[train_col_1, train_col_2, train_col_3, train_col_4]])\n",
    "\n",
    "    # Calculate and return RMSE.\n",
    "    mse = mean_squared_error(test_abalone[target_col], predicted_labels)\n",
    "    rmse = np.sqrt(mse)\n",
    "    return rmse\n",
    "\n",
    "print(\"RMSE of 'Shell weight', 'Diameter', 'Viscera weight', and 'Height':\", knn_train_test('Shell weight','Diameter', 'Viscera weight', 'Height','Rings', abalone))"
   ]
  },
  {
   "cell_type": "markdown",
   "id": "191b69b7",
   "metadata": {},
   "source": [
    "### As we can see, adding the fourth feature increases the RMSE from 2.48 to 2.49, so the best combination of features to predict age is just three: shell weight, diameter, and viscera weight."
   ]
  },
  {
   "cell_type": "markdown",
   "id": "92c68d90",
   "metadata": {},
   "source": [
    "## Hyperparameter Optimization\n"
   ]
  },
  {
   "cell_type": "markdown",
   "id": "785b4436",
   "metadata": {},
   "source": [
    "### Here I am taking the best three features and now trying to find the optimal hyperparameter k (nearest neighbors) to lower the squared error. "
   ]
  },
  {
   "cell_type": "code",
   "execution_count": 57,
   "id": "64625a78",
   "metadata": {},
   "outputs": [
    {
     "data": {
      "image/png": "[encoded data removed]",
      "text/plain": [
       "<Figure size 432x288 with 1 Axes>"
      ]
     },
     "metadata": {
      "needs_background": "light"
     },
     "output_type": "display_data"
    },
    {
     "name": "stdout",
     "output_type": "stream",
     "text": [
      "[10.964593301435407, 7.832057416267943, 6.8990962254120145, 6.589055023923445, 6.1885167464114845, 6.075544922913345, 6.047944536666341, 5.994617224880383, 5.870057298127474, 5.840124401913876, 5.8631104432757315, 5.860041201488569, 5.822332323546898, 5.776721023337565, 5.721730994152046, 5.716234300239234, 5.695736825549246, 5.712106444562584, 5.721737862662196, 5.718435406698564]\n"
     ]
    }
   ],
   "source": [
    "import matplotlib.pyplot as plt\n",
    "%matplotlib inline\n",
    "\n",
    "features = ['Shell weight', 'Diameter', 'Viscera weight']\n",
    "hyper_params = [1,2,3,4,5,6,7,8,9,10,11,12,13,14,15,16,17,18,19,20]\n",
    "mse_values1 = list()\n",
    "\n",
    "\n",
    "for item in hyper_params:\n",
    "    np.random.seed(1)\n",
    "    abalone_new = abalone.copy()    \n",
    "    # Randomize order of rows in data frame.\n",
    "    shuffled_index = np.random.permutation(abalone_new.index)\n",
    "    rand_abalone = abalone_new.reindex(shuffled_index)\n",
    "    # Select the first half and set as training set.\n",
    "    # Select the second half and set as test set.\n",
    "    train_abalone = rand_abalone.iloc[0:3132]\n",
    "    test_abalone = rand_abalone.iloc[3132:]\n",
    "    knn = KNeighborsRegressor(n_neighbors=item , algorithm='brute')\n",
    "    knn.fit(train_abalone[features], train_abalone['Rings'])\n",
    "    predictions = knn.predict(test_abalone[features])\n",
    "    mse = mean_squared_error(test_abalone['Rings'], predictions)\n",
    "    mse_values1.append(mse)\n",
    "\n",
    "plt.scatter(hyper_params, mse_values)\n",
    "plt.title('RMSE values per Number of K neighbors')\n",
    "plt.xlabel('K neighbors')\n",
    "plt.ylabel('RMSE values')\n",
    "plt.show()\n",
    "\n",
    "print(mse_values1)"
   ]
  },
  {
   "cell_type": "markdown",
   "id": "cf278199",
   "metadata": {},
   "source": [
    "### As we can see from the graph, the best number of k neighbors which minimizes the root mean squared error values for predicting age is 17. For values higher than 15, the RMSE stays stable at low values. Next, I will test all of the features with different levels of k values to determine if the RMSE can get below the value of 5.69"
   ]
  },
  {
   "cell_type": "code",
   "execution_count": 58,
   "id": "e2c4d52e",
   "metadata": {},
   "outputs": [
    {
     "data": {
      "image/png": "[encoded data removed]",
      "text/plain": [
       "<Figure size 432x288 with 1 Axes>"
      ]
     },
     "metadata": {
      "needs_background": "light"
     },
     "output_type": "display_data"
    },
    {
     "name": "stdout",
     "output_type": "stream",
     "text": [
      "[8.432535885167464, 6.610047846889952, 5.814460393407762, 5.407655502392345, 5.127502392344497, 5.005635300372142, 4.911883605116688, 4.8977721291866025, 4.86187016362455, 4.780143540669856, 4.735829807426153, 4.688549973418394, 4.6913281050932865, 4.736036519871107, 4.772236044657097, 4.748355263157895, 4.75411334249433, 4.7273701931596674, 4.732606131293987, 4.75333971291866]\n"
     ]
    }
   ],
   "source": [
    "\n",
    "features = ['Length', 'Diameter', 'Height', 'Whole weight', 'Shucked weight', 'Viscera weight','Shell weight']\n",
    "hyper_params = [1,2,3,4,5,6,7,8,9,10,11,12,13,14,15,16,17,18,19,20]\n",
    "mse_values2 = list()\n",
    "\n",
    "\n",
    "for item in hyper_params:\n",
    "    np.random.seed(1)\n",
    "    abalone_new = abalone.copy()    \n",
    "    # Randomize order of rows in data frame.\n",
    "    shuffled_index = np.random.permutation(abalone_new.index)\n",
    "    rand_abalone = abalone_new.reindex(shuffled_index)\n",
    "    # Select the first half and set as training set.\n",
    "    # Select the second half and set as test set.\n",
    "    train_abalone = rand_abalone.iloc[0:3132]\n",
    "    test_abalone = rand_abalone.iloc[3132:]\n",
    "    knn = KNeighborsRegressor(n_neighbors=item , algorithm='brute')\n",
    "    knn.fit(train_abalone[features], train_abalone['Rings'])\n",
    "    predictions = knn.predict(test_abalone[features])\n",
    "    mse = mean_squared_error(test_abalone['Rings'], predictions)\n",
    "    mse_values2.append(mse)\n",
    "\n",
    "\n",
    "plt.scatter(hyper_params, mse_values)\n",
    "plt.title('RMSE values per Number of K neighbors')\n",
    "plt.xlabel('K neighbors')\n",
    "plt.ylabel('RMSE values')\n",
    "plt.show()\n",
    "print(mse_values2)"
   ]
  },
  {
   "cell_type": "markdown",
   "id": "62630339",
   "metadata": {},
   "source": [
    "## Conclusion"
   ]
  },
  {
   "cell_type": "markdown",
   "id": "37ab0ab4",
   "metadata": {},
   "source": [
    "### When testing ALL of the posssible features at different k values, the best k values is 12, with the minimized RMSE of 4.69.  That is just 1 unit smaller than our best feature selection of three best features, so our model is fairly robust. In conclusion, scientists who cannot count the number of rings on a shell can instead come within an aveage of 2.6 rings of accuracy by measuring the shell weight instead. Beyond that, measuring three features which include shell weight, diameter, and viscera weight and using a KNN machine learning algorithm produces an accuracy within 2.48 rings, a slight improvement. "
   ]
  }
 ],
 "metadata": {
  "kernelspec": {
   "display_name": "Python 3 (ipykernel)",
   "language": "python",
   "name": "python3"
  },
  "language_info": {
   "codemirror_mode": {
    "name": "ipython",
    "version": 3
   },
   "file_extension": ".py",
   "mimetype": "text/x-python",
   "name": "python",
   "nbconvert_exporter": "python",
   "pygments_lexer": "ipython3",
   "version": "3.9.7"
  }
 },
 "nbformat": 4,
 "nbformat_minor": 5
}
